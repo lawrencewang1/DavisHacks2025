{
 "cells": [
  {
   "cell_type": "code",
   "execution_count": 2,
   "id": "70a7fb85",
   "metadata": {},
   "outputs": [],
   "source": [
    "# imports\n",
    "import pandas as pd\n",
    "import seaborn as sns\n",
    "import matplotlib.pyplot as plt\n",
    "import numpy as np"
   ]
  },
  {
   "cell_type": "code",
   "execution_count": 5,
   "id": "60678a6f",
   "metadata": {},
   "outputs": [
    {
     "data": {
      "text/html": [
       "<div>\n",
       "<style scoped>\n",
       "    .dataframe tbody tr th:only-of-type {\n",
       "        vertical-align: middle;\n",
       "    }\n",
       "\n",
       "    .dataframe tbody tr th {\n",
       "        vertical-align: top;\n",
       "    }\n",
       "\n",
       "    .dataframe thead th {\n",
       "        text-align: right;\n",
       "    }\n",
       "</style>\n",
       "<table border=\"1\" class=\"dataframe\">\n",
       "  <thead>\n",
       "    <tr style=\"text-align: right;\">\n",
       "      <th></th>\n",
       "      <th>CO</th>\n",
       "      <th>CDS</th>\n",
       "      <th>District</th>\n",
       "      <th>EDP 365</th>\n",
       "      <th>Current\\nExpense ADA</th>\n",
       "      <th>Current\\nExpense per ADA</th>\n",
       "      <th>LEA Type</th>\n",
       "    </tr>\n",
       "  </thead>\n",
       "  <tbody>\n",
       "    <tr>\n",
       "      <th>0</th>\n",
       "      <td>1</td>\n",
       "      <td>61119</td>\n",
       "      <td>Alameda Unified</td>\n",
       "      <td>1.550948e+08</td>\n",
       "      <td>8567.86</td>\n",
       "      <td>18101.93</td>\n",
       "      <td>Unified</td>\n",
       "    </tr>\n",
       "    <tr>\n",
       "      <th>1</th>\n",
       "      <td>1</td>\n",
       "      <td>61127</td>\n",
       "      <td>Albany City Unified</td>\n",
       "      <td>6.149090e+07</td>\n",
       "      <td>3435.41</td>\n",
       "      <td>17899.14</td>\n",
       "      <td>Unified</td>\n",
       "    </tr>\n",
       "    <tr>\n",
       "      <th>2</th>\n",
       "      <td>1</td>\n",
       "      <td>61143</td>\n",
       "      <td>Berkeley Unified</td>\n",
       "      <td>2.205508e+08</td>\n",
       "      <td>8572.17</td>\n",
       "      <td>25728.70</td>\n",
       "      <td>Unified</td>\n",
       "    </tr>\n",
       "    <tr>\n",
       "      <th>3</th>\n",
       "      <td>1</td>\n",
       "      <td>61150</td>\n",
       "      <td>Castro Valley Unified</td>\n",
       "      <td>1.424913e+08</td>\n",
       "      <td>8991.52</td>\n",
       "      <td>15847.30</td>\n",
       "      <td>Unified</td>\n",
       "    </tr>\n",
       "    <tr>\n",
       "      <th>4</th>\n",
       "      <td>1</td>\n",
       "      <td>61168</td>\n",
       "      <td>Emery Unified</td>\n",
       "      <td>1.586300e+07</td>\n",
       "      <td>554.70</td>\n",
       "      <td>28597.44</td>\n",
       "      <td>Unified</td>\n",
       "    </tr>\n",
       "  </tbody>\n",
       "</table>\n",
       "</div>"
      ],
      "text/plain": [
       "   CO    CDS               District       EDP 365  Current\\nExpense ADA  \\\n",
       "0   1  61119        Alameda Unified  1.550948e+08               8567.86   \n",
       "1   1  61127    Albany City Unified  6.149090e+07               3435.41   \n",
       "2   1  61143       Berkeley Unified  2.205508e+08               8572.17   \n",
       "3   1  61150  Castro Valley Unified  1.424913e+08               8991.52   \n",
       "4   1  61168          Emery Unified  1.586300e+07                554.70   \n",
       "\n",
       "   Current\\nExpense per ADA LEA Type  \n",
       "0                  18101.93  Unified  \n",
       "1                  17899.14  Unified  \n",
       "2                  25728.70  Unified  \n",
       "3                  15847.30  Unified  \n",
       "4                  28597.44  Unified  "
      ]
     },
     "execution_count": 5,
     "metadata": {},
     "output_type": "execute_result"
    }
   ],
   "source": [
    "df = pd.read_excel(\"currentexpense2324.xlsx\")\n",
    "df.head()"
   ]
  }
 ],
 "metadata": {
  "kernelspec": {
   "display_name": "base",
   "language": "python",
   "name": "python3"
  },
  "language_info": {
   "codemirror_mode": {
    "name": "ipython",
    "version": 3
   },
   "file_extension": ".py",
   "mimetype": "text/x-python",
   "name": "python",
   "nbconvert_exporter": "python",
   "pygments_lexer": "ipython3",
   "version": "3.12.4"
  }
 },
 "nbformat": 4,
 "nbformat_minor": 5
}
