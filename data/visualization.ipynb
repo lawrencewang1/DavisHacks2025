{
 "cells": [
  {
   "cell_type": "code",
   "execution_count": 63,
   "id": "70a7fb85",
   "metadata": {},
   "outputs": [],
   "source": [
    "# imports\n",
    "import pandas as pd\n",
    "import seaborn as sns\n",
    "import matplotlib.pyplot as plt\n",
    "import numpy as np"
   ]
  },
  {
   "cell_type": "markdown",
   "id": "a2cc567f",
   "metadata": {},
   "source": [
    "EXPENSES"
   ]
  },
  {
   "cell_type": "code",
   "execution_count": 39,
   "id": "60678a6f",
   "metadata": {},
   "outputs": [
    {
     "data": {
      "text/html": [
       "<div>\n",
       "<style scoped>\n",
       "    .dataframe tbody tr th:only-of-type {\n",
       "        vertical-align: middle;\n",
       "    }\n",
       "\n",
       "    .dataframe tbody tr th {\n",
       "        vertical-align: top;\n",
       "    }\n",
       "\n",
       "    .dataframe thead th {\n",
       "        text-align: right;\n",
       "    }\n",
       "</style>\n",
       "<table border=\"1\" class=\"dataframe\">\n",
       "  <thead>\n",
       "    <tr style=\"text-align: right;\">\n",
       "      <th></th>\n",
       "      <th>CO</th>\n",
       "      <th>CDS</th>\n",
       "      <th>District</th>\n",
       "      <th>EDP 365</th>\n",
       "      <th>Current\\nExpense ADA</th>\n",
       "      <th>Current\\nExpense per ADA</th>\n",
       "      <th>LEA Type</th>\n",
       "    </tr>\n",
       "  </thead>\n",
       "  <tbody>\n",
       "    <tr>\n",
       "      <th>0</th>\n",
       "      <td>1</td>\n",
       "      <td>61119</td>\n",
       "      <td>Alameda Unified</td>\n",
       "      <td>1.550948e+08</td>\n",
       "      <td>8567.86</td>\n",
       "      <td>18101.93</td>\n",
       "      <td>Unified</td>\n",
       "    </tr>\n",
       "    <tr>\n",
       "      <th>1</th>\n",
       "      <td>1</td>\n",
       "      <td>61127</td>\n",
       "      <td>Albany City Unified</td>\n",
       "      <td>6.149090e+07</td>\n",
       "      <td>3435.41</td>\n",
       "      <td>17899.14</td>\n",
       "      <td>Unified</td>\n",
       "    </tr>\n",
       "    <tr>\n",
       "      <th>2</th>\n",
       "      <td>1</td>\n",
       "      <td>61143</td>\n",
       "      <td>Berkeley Unified</td>\n",
       "      <td>2.205508e+08</td>\n",
       "      <td>8572.17</td>\n",
       "      <td>25728.70</td>\n",
       "      <td>Unified</td>\n",
       "    </tr>\n",
       "    <tr>\n",
       "      <th>3</th>\n",
       "      <td>1</td>\n",
       "      <td>61150</td>\n",
       "      <td>Castro Valley Unified</td>\n",
       "      <td>1.424913e+08</td>\n",
       "      <td>8991.52</td>\n",
       "      <td>15847.30</td>\n",
       "      <td>Unified</td>\n",
       "    </tr>\n",
       "    <tr>\n",
       "      <th>4</th>\n",
       "      <td>1</td>\n",
       "      <td>61168</td>\n",
       "      <td>Emery Unified</td>\n",
       "      <td>1.586300e+07</td>\n",
       "      <td>554.70</td>\n",
       "      <td>28597.44</td>\n",
       "      <td>Unified</td>\n",
       "    </tr>\n",
       "  </tbody>\n",
       "</table>\n",
       "</div>"
      ],
      "text/plain": [
       "   CO    CDS               District       EDP 365  Current\\nExpense ADA  \\\n",
       "0   1  61119        Alameda Unified  1.550948e+08               8567.86   \n",
       "1   1  61127    Albany City Unified  6.149090e+07               3435.41   \n",
       "2   1  61143       Berkeley Unified  2.205508e+08               8572.17   \n",
       "3   1  61150  Castro Valley Unified  1.424913e+08               8991.52   \n",
       "4   1  61168          Emery Unified  1.586300e+07                554.70   \n",
       "\n",
       "   Current\\nExpense per ADA LEA Type  \n",
       "0                  18101.93  Unified  \n",
       "1                  17899.14  Unified  \n",
       "2                  25728.70  Unified  \n",
       "3                  15847.30  Unified  \n",
       "4                  28597.44  Unified  "
      ]
     },
     "execution_count": 39,
     "metadata": {},
     "output_type": "execute_result"
    }
   ],
   "source": [
    "# reading in data\n",
    "df = pd.read_excel(\"currentexpense2324.xlsx\")\n",
    "df.head()"
   ]
  },
  {
   "cell_type": "code",
   "execution_count": 40,
   "id": "ca1f1215",
   "metadata": {},
   "outputs": [
    {
     "data": {
      "text/plain": [
       "{1: 'Alameda',\n",
       " 2: 'Alpine',\n",
       " 3: 'Amador',\n",
       " 4: 'Butte',\n",
       " 5: 'Calaveras',\n",
       " 6: 'Colusa',\n",
       " 7: 'Contra Costa',\n",
       " 8: 'Del Norte',\n",
       " 9: 'El Dorado',\n",
       " 10: 'Fresno',\n",
       " 11: 'Glenn',\n",
       " 12: 'Humboldt',\n",
       " 13: 'Imperial',\n",
       " 14: 'Inyo',\n",
       " 15: 'Kern',\n",
       " 16: 'Kings',\n",
       " 17: 'Lake',\n",
       " 18: 'Lassen',\n",
       " 19: 'Los Angeles',\n",
       " 20: 'Madera',\n",
       " 21: 'Marin',\n",
       " 22: 'Mariposa',\n",
       " 23: 'Mendocino',\n",
       " 24: 'Merced',\n",
       " 25: 'Modoc',\n",
       " 26: 'Mono',\n",
       " 27: 'Monterey',\n",
       " 28: 'Napa',\n",
       " 29: 'Nevada',\n",
       " 30: 'Orange',\n",
       " 31: 'Placer',\n",
       " 32: 'Plumas',\n",
       " 33: 'Riverside',\n",
       " 34: 'Sacramento',\n",
       " 35: 'San Benito',\n",
       " 36: 'San Bernardino',\n",
       " 37: 'San Diego',\n",
       " 38: 'San Francisco',\n",
       " 39: 'San Joaquin',\n",
       " 40: 'San Luis Obispo',\n",
       " 41: 'San Mateo',\n",
       " 42: 'Santa Barbara',\n",
       " 43: 'Santa Clara',\n",
       " 44: 'Santa Cruz',\n",
       " 45: 'Shasta',\n",
       " 46: 'Sierra',\n",
       " 47: 'Siskiyou',\n",
       " 48: 'Solano',\n",
       " 49: 'Sonoma',\n",
       " 50: 'Stanislaus',\n",
       " 51: 'Sutter',\n",
       " 52: 'Tehama',\n",
       " 53: 'Trinity',\n",
       " 54: 'Tulare',\n",
       " 55: 'Tuolumne',\n",
       " 56: 'Ventura',\n",
       " 57: 'Yolo',\n",
       " 58: 'Yuba'}"
      ]
     },
     "execution_count": 40,
     "metadata": {},
     "output_type": "execute_result"
    }
   ],
   "source": [
    "# making conversion dict for County ID values\n",
    "conversion_df = pd.read_excel('CO-Name.xlsx')\n",
    "conversion_dict = {}\n",
    "for i in range(len(conversion_df)):\n",
    "    conversion_dict[conversion_df['CO'][i]] = conversion_df['County'][i]\n",
    "conversion_dict"
   ]
  },
  {
   "cell_type": "code",
   "execution_count": 41,
   "id": "856d261a",
   "metadata": {},
   "outputs": [
    {
     "data": {
      "text/html": [
       "<div>\n",
       "<style scoped>\n",
       "    .dataframe tbody tr th:only-of-type {\n",
       "        vertical-align: middle;\n",
       "    }\n",
       "\n",
       "    .dataframe tbody tr th {\n",
       "        vertical-align: top;\n",
       "    }\n",
       "\n",
       "    .dataframe thead th {\n",
       "        text-align: right;\n",
       "    }\n",
       "</style>\n",
       "<table border=\"1\" class=\"dataframe\">\n",
       "  <thead>\n",
       "    <tr style=\"text-align: right;\">\n",
       "      <th></th>\n",
       "      <th>CO</th>\n",
       "      <th>Expense per ADA</th>\n",
       "    </tr>\n",
       "  </thead>\n",
       "  <tbody>\n",
       "    <tr>\n",
       "      <th>0</th>\n",
       "      <td>Alameda</td>\n",
       "      <td>18101.93</td>\n",
       "    </tr>\n",
       "    <tr>\n",
       "      <th>1</th>\n",
       "      <td>Alameda</td>\n",
       "      <td>17899.14</td>\n",
       "    </tr>\n",
       "    <tr>\n",
       "      <th>2</th>\n",
       "      <td>Alameda</td>\n",
       "      <td>25728.70</td>\n",
       "    </tr>\n",
       "    <tr>\n",
       "      <th>3</th>\n",
       "      <td>Alameda</td>\n",
       "      <td>15847.30</td>\n",
       "    </tr>\n",
       "    <tr>\n",
       "      <th>4</th>\n",
       "      <td>Alameda</td>\n",
       "      <td>28597.44</td>\n",
       "    </tr>\n",
       "  </tbody>\n",
       "</table>\n",
       "</div>"
      ],
      "text/plain": [
       "        CO  Expense per ADA\n",
       "0  Alameda         18101.93\n",
       "1  Alameda         17899.14\n",
       "2  Alameda         25728.70\n",
       "3  Alameda         15847.30\n",
       "4  Alameda         28597.44"
      ]
     },
     "execution_count": 41,
     "metadata": {},
     "output_type": "execute_result"
    }
   ],
   "source": [
    "# cleaning data\n",
    "df = df.drop(columns=['CDS', 'District', 'EDP 365', 'Current\\nExpense ADA', 'LEA Type'])\n",
    "df = df.rename(columns={'Current\\nExpense per ADA' : 'Expense per ADA'})\n",
    "df['CO'] = df['CO'].map(conversion_dict)\n",
    "df.head()"
   ]
  },
  {
   "cell_type": "code",
   "execution_count": 42,
   "id": "7f0a2d71",
   "metadata": {},
   "outputs": [
    {
     "data": {
      "text/html": [
       "<div>\n",
       "<style scoped>\n",
       "    .dataframe tbody tr th:only-of-type {\n",
       "        vertical-align: middle;\n",
       "    }\n",
       "\n",
       "    .dataframe tbody tr th {\n",
       "        vertical-align: top;\n",
       "    }\n",
       "\n",
       "    .dataframe thead th {\n",
       "        text-align: right;\n",
       "    }\n",
       "</style>\n",
       "<table border=\"1\" class=\"dataframe\">\n",
       "  <thead>\n",
       "    <tr style=\"text-align: right;\">\n",
       "      <th></th>\n",
       "      <th>Expense per ADA</th>\n",
       "    </tr>\n",
       "    <tr>\n",
       "      <th>CO</th>\n",
       "      <th></th>\n",
       "    </tr>\n",
       "  </thead>\n",
       "  <tbody>\n",
       "    <tr>\n",
       "      <th>Alameda</th>\n",
       "      <td>22015.700000</td>\n",
       "    </tr>\n",
       "    <tr>\n",
       "      <th>Alpine</th>\n",
       "      <td>59610.760000</td>\n",
       "    </tr>\n",
       "    <tr>\n",
       "      <th>Amador</th>\n",
       "      <td>15659.380000</td>\n",
       "    </tr>\n",
       "    <tr>\n",
       "      <th>Butte</th>\n",
       "      <td>22534.752308</td>\n",
       "    </tr>\n",
       "    <tr>\n",
       "      <th>Calaveras</th>\n",
       "      <td>19967.307500</td>\n",
       "    </tr>\n",
       "    <tr>\n",
       "      <th>Colusa</th>\n",
       "      <td>16637.125000</td>\n",
       "    </tr>\n",
       "    <tr>\n",
       "      <th>Contra Costa</th>\n",
       "      <td>17936.416111</td>\n",
       "    </tr>\n",
       "    <tr>\n",
       "      <th>Del Norte</th>\n",
       "      <td>21262.530000</td>\n",
       "    </tr>\n",
       "    <tr>\n",
       "      <th>El Dorado</th>\n",
       "      <td>20485.760667</td>\n",
       "    </tr>\n",
       "    <tr>\n",
       "      <th>Fresno</th>\n",
       "      <td>24362.371875</td>\n",
       "    </tr>\n",
       "  </tbody>\n",
       "</table>\n",
       "</div>"
      ],
      "text/plain": [
       "              Expense per ADA\n",
       "CO                           \n",
       "Alameda          22015.700000\n",
       "Alpine           59610.760000\n",
       "Amador           15659.380000\n",
       "Butte            22534.752308\n",
       "Calaveras        19967.307500\n",
       "Colusa           16637.125000\n",
       "Contra Costa     17936.416111\n",
       "Del Norte        21262.530000\n",
       "El Dorado        20485.760667\n",
       "Fresno           24362.371875"
      ]
     },
     "execution_count": 42,
     "metadata": {},
     "output_type": "execute_result"
    }
   ],
   "source": [
    "df_aggregated = df.groupby('CO').agg('mean')\n",
    "df_aggregated.head(10)"
   ]
  },
  {
   "cell_type": "code",
   "execution_count": 43,
   "id": "73147b98",
   "metadata": {},
   "outputs": [
    {
     "data": {
      "image/png": "[encoded data removed]",
      "text/plain": [
       "<Figure size 640x480 with 1 Axes>"
      ]
     },
     "metadata": {},
     "output_type": "display_data"
    }
   ],
   "source": [
    "sns.histplot(data=df_aggregated, x='Expense per ADA');\n",
    "plt.xlabel('Average Expense per ADA');"
   ]
  },
  {
   "cell_type": "markdown",
   "id": "e16333ea",
   "metadata": {},
   "source": [
    "TEST SCORES"
   ]
  },
  {
   "cell_type": "code",
   "execution_count": 45,
   "id": "9ffe6f94",
   "metadata": {},
   "outputs": [],
   "source": [
    "testing_data = pd.read_csv('sb_ca2024_all_csv_v1.txt', delimiter='^', encoding='latin1')\n",
    "county_info = pd.read_csv('sb_ca2024entities_csv.txt', delimiter='^', encoding='latin1')"
   ]
  },
  {
   "cell_type": "code",
   "execution_count": null,
   "id": "e480fb07",
   "metadata": {},
   "outputs": [
    {
     "data": {
      "text/html": [
       "<div>\n",
       "<style scoped>\n",
       "    .dataframe tbody tr th:only-of-type {\n",
       "        vertical-align: middle;\n",
       "    }\n",
       "\n",
       "    .dataframe tbody tr th {\n",
       "        vertical-align: top;\n",
       "    }\n",
       "\n",
       "    .dataframe thead th {\n",
       "        text-align: right;\n",
       "    }\n",
       "</style>\n",
       "<table border=\"1\" class=\"dataframe\">\n",
       "  <thead>\n",
       "    <tr style=\"text-align: right;\">\n",
       "      <th></th>\n",
       "      <th>Mean Scale Score</th>\n",
       "    </tr>\n",
       "    <tr>\n",
       "      <th>County Code</th>\n",
       "      <th></th>\n",
       "    </tr>\n",
       "  </thead>\n",
       "  <tbody>\n",
       "    <tr>\n",
       "      <th>0</th>\n",
       "      <td>2491.557809</td>\n",
       "    </tr>\n",
       "    <tr>\n",
       "      <th>1</th>\n",
       "      <td>2495.838243</td>\n",
       "    </tr>\n",
       "    <tr>\n",
       "      <th>3</th>\n",
       "      <td>2462.735317</td>\n",
       "    </tr>\n",
       "    <tr>\n",
       "      <th>4</th>\n",
       "      <td>2475.203283</td>\n",
       "    </tr>\n",
       "    <tr>\n",
       "      <th>5</th>\n",
       "      <td>2456.617852</td>\n",
       "    </tr>\n",
       "  </tbody>\n",
       "</table>\n",
       "</div>"
      ],
      "text/plain": [
       "             Mean Scale Score\n",
       "County Code                  \n",
       "0                 2491.557809\n",
       "1                 2495.838243\n",
       "3                 2462.735317\n",
       "4                 2475.203283\n",
       "5                 2456.617852"
      ]
     },
     "execution_count": 81,
     "metadata": {},
     "output_type": "execute_result"
    }
   ],
   "source": [
    "# cleaning \n",
    "testing_data_short = testing_data[['County Code', 'Mean Scale Score']].replace('*', np.nan).dropna(subset=['Mean Scale Score'])\n",
    "testing_data_short['Mean Scale Score'] = testing_data_short['Mean Scale Score'].astype(float)\n",
    "testing_data_short = testing_data_short.groupby('County Code').agg('mean')\n",
    "testing_data_short.head()"
   ]
  },
  {
   "cell_type": "code",
   "execution_count": 115,
   "id": "e7311703",
   "metadata": {},
   "outputs": [
    {
     "data": {
      "text/html": [
       "<div>\n",
       "<style scoped>\n",
       "    .dataframe tbody tr th:only-of-type {\n",
       "        vertical-align: middle;\n",
       "    }\n",
       "\n",
       "    .dataframe tbody tr th {\n",
       "        vertical-align: top;\n",
       "    }\n",
       "\n",
       "    .dataframe thead th {\n",
       "        text-align: right;\n",
       "    }\n",
       "</style>\n",
       "<table border=\"1\" class=\"dataframe\">\n",
       "  <thead>\n",
       "    <tr style=\"text-align: right;\">\n",
       "      <th></th>\n",
       "      <th>County Name</th>\n",
       "    </tr>\n",
       "  </thead>\n",
       "  <tbody>\n",
       "    <tr>\n",
       "      <th>0</th>\n",
       "      <td>Alameda</td>\n",
       "    </tr>\n",
       "    <tr>\n",
       "      <th>1</th>\n",
       "      <td>Alpine</td>\n",
       "    </tr>\n",
       "    <tr>\n",
       "      <th>2</th>\n",
       "      <td>Amador</td>\n",
       "    </tr>\n",
       "    <tr>\n",
       "      <th>3</th>\n",
       "      <td>Butte</td>\n",
       "    </tr>\n",
       "    <tr>\n",
       "      <th>4</th>\n",
       "      <td>Calaveras</td>\n",
       "    </tr>\n",
       "  </tbody>\n",
       "</table>\n",
       "</div>"
      ],
      "text/plain": [
       "  County Name\n",
       "0     Alameda\n",
       "1      Alpine\n",
       "2      Amador\n",
       "3       Butte\n",
       "4   Calaveras"
      ]
     },
     "execution_count": 115,
     "metadata": {},
     "output_type": "execute_result"
    }
   ],
   "source": [
    "# cleaning county info\n",
    "county_info_short = county_info[['County Code', 'County Name']].drop(index=0).groupby('County Code').agg('first')\n",
    "county_info_short = county_info_short.reset_index()\n",
    "county_info_short = county_info_short.drop(columns=['County Code'])\n",
    "county_info_short.head()"
   ]
  },
  {
   "cell_type": "code",
   "execution_count": 116,
   "id": "b9e6145c",
   "metadata": {},
   "outputs": [
    {
     "data": {
      "text/plain": [
       "True"
      ]
     },
     "execution_count": 116,
     "metadata": {},
     "output_type": "execute_result"
    }
   ],
   "source": [
    "len(testing_data_short) == len(county_info_short)"
   ]
  },
  {
   "cell_type": "code",
   "execution_count": 119,
   "id": "e697f17b",
   "metadata": {},
   "outputs": [
    {
     "data": {
      "text/html": [
       "<div>\n",
       "<style scoped>\n",
       "    .dataframe tbody tr th:only-of-type {\n",
       "        vertical-align: middle;\n",
       "    }\n",
       "\n",
       "    .dataframe tbody tr th {\n",
       "        vertical-align: top;\n",
       "    }\n",
       "\n",
       "    .dataframe thead th {\n",
       "        text-align: right;\n",
       "    }\n",
       "</style>\n",
       "<table border=\"1\" class=\"dataframe\">\n",
       "  <thead>\n",
       "    <tr style=\"text-align: right;\">\n",
       "      <th></th>\n",
       "      <th>County Name</th>\n",
       "      <th>Mean Scale Score</th>\n",
       "    </tr>\n",
       "  </thead>\n",
       "  <tbody>\n",
       "    <tr>\n",
       "      <th>0</th>\n",
       "      <td>Alameda</td>\n",
       "      <td>2491.557809</td>\n",
       "    </tr>\n",
       "    <tr>\n",
       "      <th>1</th>\n",
       "      <td>Alpine</td>\n",
       "      <td>2495.838243</td>\n",
       "    </tr>\n",
       "    <tr>\n",
       "      <th>3</th>\n",
       "      <td>Butte</td>\n",
       "      <td>2462.735317</td>\n",
       "    </tr>\n",
       "    <tr>\n",
       "      <th>4</th>\n",
       "      <td>Calaveras</td>\n",
       "      <td>2475.203283</td>\n",
       "    </tr>\n",
       "    <tr>\n",
       "      <th>5</th>\n",
       "      <td>Colusa</td>\n",
       "      <td>2456.617852</td>\n",
       "    </tr>\n",
       "  </tbody>\n",
       "</table>\n",
       "</div>"
      ],
      "text/plain": [
       "  County Name  Mean Scale Score\n",
       "0     Alameda       2491.557809\n",
       "1      Alpine       2495.838243\n",
       "3       Butte       2462.735317\n",
       "4   Calaveras       2475.203283\n",
       "5      Colusa       2456.617852"
      ]
     },
     "execution_count": 119,
     "metadata": {},
     "output_type": "execute_result"
    }
   ],
   "source": [
    "combined_testing_data = county_info_short.merge(testing_data_short, left_index=True, right_index=True)\n",
    "combined_testing_data.head()"
   ]
  },
  {
   "cell_type": "code",
   "execution_count": 122,
   "id": "ce4f4343",
   "metadata": {},
   "outputs": [
    {
     "data": {
      "image/png": "[encoded data removed]",
      "text/plain": [
       "<Figure size 640x480 with 1 Axes>"
      ]
     },
     "metadata": {},
     "output_type": "display_data"
    }
   ],
   "source": [
    "sns.histplot(data=combined_testing_data, x='Mean Scale Score');"
   ]
  }
 ],
 "metadata": {
  "kernelspec": {
   "display_name": "base",
   "language": "python",
   "name": "python3"
  },
  "language_info": {
   "codemirror_mode": {
    "name": "ipython",
    "version": 3
   },
   "file_extension": ".py",
   "mimetype": "text/x-python",
   "name": "python",
   "nbconvert_exporter": "python",
   "pygments_lexer": "ipython3",
   "version": "3.12.4"
  }
 },
 "nbformat": 4,
 "nbformat_minor": 5
}
